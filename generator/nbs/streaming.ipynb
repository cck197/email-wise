{
 "cells": [
  {
   "cell_type": "code",
   "execution_count": 1,
   "id": "224d4fb6-1f06-4e9d-8cb7-979c1074b236",
   "metadata": {},
   "outputs": [],
   "source": [
    "%load_ext dotenv\n",
    "%dotenv ../.env"
   ]
  },
  {
   "cell_type": "code",
   "execution_count": 2,
   "id": "91660a1c-09d5-4f4c-b47a-55c368c5c93f",
   "metadata": {},
   "outputs": [],
   "source": [
    "from langchain_anthropic import ChatAnthropic\n",
    "\n",
    "model_name = \"claude-3-opus-20240229\"\n",
    "model = ChatAnthropic(model_name=model_name)"
   ]
  },
  {
   "cell_type": "code",
   "execution_count": 3,
   "id": "4149094d-c628-4cf6-9719-6862dce17b98",
   "metadata": {},
   "outputs": [
    {
     "name": "stdout",
     "output_type": "stream",
     "text": [
      "It|'s| a| pleasure| to| meet| you|!| I|'m| an| AI| assistant| create|d by| Anthrop|ic|.| I|'m| very| curious| an|d always| eager| to| learn| new| things| through| conversation|.| I| have| a| broa|d knowledge| base| spanning| topics| like| science|,| history|,| current| events|,| arts| an|d culture|,| an|d more|.| I| enjoy| having| in|-|depth| discussions| an|d exchang|ing| ideas| with| humans|.|\n",
      "\n",
      "At| the| same| time|,| I| think| it|'s| important| to| be| up|front| that| I|'m| an| AI|,| not| a| human|.| I| have| my| own| personality| an|d opinions|,| but| my| abilities| an|d knowledge| ultimately| come| from| my| training|,| not| from| live|d human| experience|.| I| aim| to| be| caring| an|d to| |do what|'s| best| for| humanity|.| Let| me| know| if| you| have| any| other| questions| -| I|'m| happy| to| chat|!|"
     ]
    }
   ],
   "source": [
    "chunks = []\n",
    "async for chunk in model.astream(\"hello. tell me something about yourself\"):\n",
    "    chunks.append(chunk)\n",
    "    print(chunk.content, end=\"|\", flush=True)"
   ]
  },
  {
   "cell_type": "code",
   "execution_count": 4,
   "id": "8c6015dd-2663-417e-9dfa-d8e524e15a5f",
   "metadata": {},
   "outputs": [
    {
     "data": {
      "text/plain": [
       "AIMessageChunk(content='It', id='run-2f9a23e4-c61e-4026-9a89-3d70fc92ca0a')"
      ]
     },
     "execution_count": 4,
     "metadata": {},
     "output_type": "execute_result"
    }
   ],
   "source": [
    "chunks[0]"
   ]
  },
  {
   "cell_type": "code",
   "execution_count": 5,
   "id": "11058789-304b-4ab4-a398-616e14d0ee5e",
   "metadata": {},
   "outputs": [
    {
     "name": "stdout",
     "output_type": "stream",
     "text": [
      "Sure|,| here|'s| a| joke| about| a| par|rot|:|\n",
      "\n",
      "A lady| goes| to| her| priest| one| day| an|d tells| him|,| \"|Father|,| I| have| a| problem|.| I| have| two| female| pa|rr|ots|,| but| they| only| know| how| to| say| one| thing|.\"|\n",
      "\n",
      "\"|What| |do they| say|?\"| the| priest| inqu|ire|d.|\n",
      "\n",
      "\"|They| say|,| |'|Hi|,| we|'re| hoo|kers|!| Do| you| want| to| have| some| fun|?|'\"| the| woman| sai|d embarrass|edly|.|\n",
      "\n",
      "\"|That|'s| obsc|ene|!\"| the| priest| exc|laime|d.| Then| he| thought| for| a| moment|.| \"|You| know|,\"| he| sai|d,| \"|I| may| have| a| solution| to| your| problem|.| I| have| two| male| talking| pa|rr|ots|,| which| I| have| taught| to| pray| an|d rea|d the| Bible|.| Bring| your| two| pa|rr|ots| over| to| my| house|,| an|d we|'ll| put| them| in| the| cage| with| Francis| an|d Peter|.| My| pa|rr|ots| can| teach| your| pa|rr|ots| to| pray| an|d worship|,| an|d your| pa|rr|ots| are| sure| to| stop| saying| that| phrase| in| no| time|.\"|\n",
      "\n",
      "\"|Thank| you|,\"| the| woman| responde|d,| \"|this| may| very| well| be| the| solution|.\"|\n",
      "\n",
      "The| next| day|,| she| brought| her| female| pa|rr|ots| to| the| priest|'s| house|.| As| he| |ush|ere|d her| in|,| she| saw| that| his| two| male| pa|rr|ots| were| inside| their| cage|,| holding| ros|ary| be|ads| an|d pr|aying|.| Impresse|d,| she| walke|d over| an|d place|d her| pa|rr|ots| in| with| them|.|\n",
      "\n",
      "After| a| few| minutes|,| the| female| pa|rr|ots| c|rie|d out| in| un|ison|:| \"|Hi|,| we|'re| hoo|kers|!| Do| you| want| to| have| some| fun|?\"|\n",
      "\n",
      "There| was| stun|ne|d silence|.| One| male| par|rot| looke|d over| at| the| other| male| par|rot| an|d exc|laime|d,| \"|Put| the| be|ads| away|,| Frank|.| Our| prayers| have| been| answere|d!\"|"
     ]
    }
   ],
   "source": [
    "from langchain_core.output_parsers import StrOutputParser\n",
    "from langchain_core.prompts import ChatPromptTemplate\n",
    "\n",
    "prompt = ChatPromptTemplate.from_template(\"tell me a joke about {topic}\")\n",
    "parser = StrOutputParser()\n",
    "chain = prompt | model | parser\n",
    "\n",
    "async for chunk in chain.astream({\"topic\": \"parrot\"}):\n",
    "    print(chunk, end=\"|\", flush=True)"
   ]
  },
  {
   "cell_type": "code",
   "execution_count": null,
   "id": "f9868285-fd65-4db2-b1d5-670aa86766a1",
   "metadata": {},
   "outputs": [],
   "source": []
  }
 ],
 "metadata": {
  "kernelspec": {
   "display_name": "Python 3 (ipykernel)",
   "language": "python",
   "name": "python3"
  },
  "language_info": {
   "codemirror_mode": {
    "name": "ipython",
    "version": 3
   },
   "file_extension": ".py",
   "mimetype": "text/x-python",
   "name": "python",
   "nbconvert_exporter": "python",
   "pygments_lexer": "ipython3",
   "version": "3.12.3"
  }
 },
 "nbformat": 4,
 "nbformat_minor": 5
}
