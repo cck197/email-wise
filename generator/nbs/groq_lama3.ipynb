{
 "cells": [
  {
   "cell_type": "code",
   "execution_count": 2,
   "id": "3aa8a572-6ef9-4220-9cfa-ba57526c8cf6",
   "metadata": {},
   "outputs": [],
   "source": [
    "%load_ext dotenv\n",
    "%dotenv ../.env"
   ]
  },
  {
   "cell_type": "code",
   "execution_count": 3,
   "id": "1310d187-c212-4831-a704-5f8aeadb3870",
   "metadata": {},
   "outputs": [],
   "source": [
    "from generator.email_generator import *\n",
    "from generator.db import *"
   ]
  },
  {
   "cell_type": "code",
   "execution_count": 4,
   "id": "cc2a8bb9-2e35-4126-99a4-46a119c26b61",
   "metadata": {},
   "outputs": [],
   "source": [
    "db = await connect()"
   ]
  },
  {
   "cell_type": "code",
   "execution_count": 4,
   "id": "c6c8e603-c195-49af-a67e-f19c0808b4cc",
   "metadata": {},
   "outputs": [],
   "source": [
    "shop = \"quickstart-3d7b636b.myshopify.com\""
   ]
  },
  {
   "cell_type": "code",
   "execution_count": 5,
   "id": "22c645ba-97a6-4e7e-a9cf-0d91d4f99002",
   "metadata": {},
   "outputs": [],
   "source": [
    "prod_desc = \"\"\"\n",
    "<p>Our Ground Organ Meat Blends have become wildly popular with nutrition and fitness enthusiasts. Families who want more vitamins, minerals, and nutrients in their meals have also found these blends to be a delicious choice.</p> <p>Now, we are offering a limited amount of 100% Grass-fed Ground Beef blended with 7% BISON Liver and 3% BISON Heart. This is a wonderful option for those looking for a lean Ground Organ Blend. All the benefits and amazing flavor of grass-fed Beef with the added bonus of Bison Organ Meat nutrition. Our Ground Beef and Bison Organ Blend is 100% Grass-fed and Grass-finished, No added hormones, No antibiotics, No GMOs, No junk!</p> <p>Delicious 100% Grass-fed Ground Beef already has excellent Omega 6:3 ratio and CLA levels that the body needs. Now, with the addition of Ground BISON Organ Meats — BISON Liver and BISON Heart — blended with Ground Beef, you'll get even more nutrients.</p> <p>This is an excellent way to include organ meats into your diet. The combination of ground beef and ground organ meats makes a tasty rich flavored burger, casserole, soup, chili, meatballs, or sliders.</p> <p>It's the perfect ground meat for keto, paleo, and carnivore diets or if you're simply craving a tasty burger.</p> <p>Organ meats are one of nature's super-foods, loaded with healthy vitamins, minerals, CoQ10, amino acids collagen, antioxidants and more!</p> <p>Vitamin A<br>Vitamins B2, B3, B5, B6, B9, B12<br>Vitamin D<br>Selenium<br>Phosphorus<br>Zinc<br>Iron<br>Copper</p> <p>1 lb vacuum sealed package Ground Beef with BISON Organ Blend.</p> <p>All of US Wellness Meats’ beef products are 100% grass-fed and grass-finished.</p>\n",
    "\"\"\""
   ]
  },
  {
   "cell_type": "code",
   "execution_count": 6,
   "id": "07e488db-e65f-4c0c-87c4-e857fbf62bd6",
   "metadata": {
    "scrolled": true
   },
   "outputs": [],
   "source": [
    "email = await get_sample_email(db, shop)"
   ]
  },
  {
   "cell_type": "code",
   "execution_count": 7,
   "id": "d25c450f-6601-4a6c-8d71-8dbd7c84a6cc",
   "metadata": {},
   "outputs": [
    {
     "data": {
      "text/plain": [
       "'\\n\\n\\n\\n\\n\\n\\n\\n\\n\\n\\n\\n\\n\\n\\n      Over 400 Grass-Fed and Pasture-Raised Meats Delivered To Your Doorâ\\x80\\x87Í\\x8f â\\x80\\x87Í\\x8f â'"
      ]
     },
     "execution_count": 7,
     "metadata": {},
     "output_type": "execute_result"
    }
   ],
   "source": [
    "email.text[:100]"
   ]
  },
  {
   "cell_type": "code",
   "execution_count": 8,
   "id": "d6e35712-6ee0-4484-8afe-f26d4cea569d",
   "metadata": {},
   "outputs": [],
   "source": [
    "message = clean_email(email)"
   ]
  },
  {
   "cell_type": "code",
   "execution_count": 8,
   "id": "4bd33f00-21fb-4c82-9f2d-903ec9624cfd",
   "metadata": {
    "collapsed": true,
    "jupyter": {
     "outputs_hidden": true
    },
    "scrolled": true
   },
   "outputs": [
    {
     "name": "stdout",
     "output_type": "stream",
     "text": [
      "Over 400 Grass-Fed and Pasture-Raised Meats Delivered to Your Door.\n",
      "\n",
      "Beef, Bison, Dairy, Lamb, Pork, Poultry, Seafood, Shop the Sale.\n",
      "\n",
      "April 17, 2024, Canton, Missouri.\n",
      "\n",
      "Shop the Sale. Add the special storewide \"NATURE\" discount code to your cart at checkout and save 15% on everything in your cart. Offer ends at midnight.\n",
      "\n",
      "On the Blog. Trustpilot. One of the useful tools in online shopping is Customer Reviews. A review for a product or service can inform us whether it makes sense to try a particular product or trust a business with our hard-earned dollars. When consumers share their experiences, it helps everyone.\n",
      "\n",
      "Back in 2003, Grassland Beef / US Wellness Meats had only been online for a few years as one of the pioneers in the Grass-fed Beef space. That was when Marian Burros, Food Columnist for the New York Times, reviewed our 100% Grass-fed Beef Steaks.\n",
      "\n",
      "\"It has taken me three years to find a piece of grass-fed beef that is tender, juicy, meaty and available online…the steaks from Grassland Beef [now U.S. Wellness Meats] are satisfyingly delicious...brought back memories of the beef flavor meat had before cattle were stuffed with grain in feedlots.\"\n",
      "\n",
      "— Marian Burros, Food Columnist New York Times [11.26.2003].\n",
      "\n",
      "Other Food Critics have also reviewed us. More recently in 2018, Don Mauer, Food Columnist for the Chicago Daily Herald, wrote this:\n",
      "\n",
      "\"A little less than a year ago I found a terrific company from which I get grass-fed, grass-finished beef: US Wellness Meats, located in Canton, Missouri (population 2,377). How were my beef short ribs? Amazing. Even though grass-finished beef is much leaner than CAFO beef, my ribs were moist and full of flavor; almost difficult to stop eating. My beef and barley soup had a big beef flavor from the bones.\"\n",
      "\n",
      "— Don Mauer, Food Columnist Chicago Daily Herald [01.24.2018].\n",
      "\n",
      "See other Food Critics reviews HERE.\n",
      "\n",
      "It's always nice to hear food critics say nice things about us. But, we also love hearing from you. Your feedback is so important to others who may be considering US Wellness Meats for the first time. Trustpilot is a 3rd Party Review Service that allows customers to share their experiences. It provides a level of transparency that shows our customers we deliver on our promises. We started using Trustpilot's services several years ago.\n",
      "\n",
      "As a customer, you get to see it all. We're not perfect, so there are occasions when we receive a poor review. Fortunately, they are few and far between and we always make it right with our customers. If you're considering a particular product but need additional information, click on the \"green stars\" on the product page and you'll see customer reviews for that product. You can find more than 6,400 product specific and service reviews HERE.\n",
      "\n",
      "Well Wishes, Team USWM.\n",
      "\n",
      "Pet Burger Restock. Your dog wanted us to let you know that Pet Burger is back in stock! Shop our selection of high-quality pet food including ground blends, bones, and organ meats your pets are sure to love.\n",
      "\n",
      "Know Your Farmer. For over 20 years, John Wood has been building deeper, richer soils on US Wellness Farms. Learn more about the difference in conventional and holistic farms.\n",
      "\n",
      "Shout Out. It's burger time! Marché Gourmet in Austin, Texas is cooking up delicious grass-fed burgers.\n",
      "\n",
      "Work Those Legs: Lower Body Workout (@ home!) By Scott Mendelson. Scott, I typically make excuses not to train my legs for a number of reasons. I need something I can do at home to help me lose more body fat and firm up the glutes and thighs if you know what I mean. Not knowing what to do has me really limited, but I want to be in great shape for Memorial Day. ~ Nicki Nashville TN. KEEP READING.\n",
      "\n",
      "Shipping FAQs. Our normal shipping schedule is Monday - Wednesday. Any order placed after 10 am (CST) Wednesday will ship the following week. Most orders are delivered to your door within 24-48 hours of leaving our facility. We answer more questions in our Shipping FAQs.\n",
      "\n",
      "Last Chance to Use NATURE Discount Code. Our 15% Storewide Discount Code \"NATURE\" ends tonight at midnight. If you need to restock your freezer, don't miss this chance to save on over 350 items in our store.\n",
      "\n",
      "Weekly Specials. Sale ends Saturday 10 pm 4/20/24.\n",
      "\n",
      "75% Lean Ground Beef - 1 lb. Shop now.\n",
      "\n",
      "Delmonico Steak - 14 oz. Shop now.\n",
      "\n",
      "Beef Center Cut Shoulder Roast - 3 lbs. Shop now.\n",
      "\n",
      "Beef Gelatin - 16 oz. Shop now.\n",
      "\n",
      "Sugar Free Pork Breakfast Sausage Patties - 6 (3.2 oz). Shop now.\n",
      "\n",
      "Ground Chicken Backs (pet food) - 1 lb. Shop now.\n",
      "\n",
      "What's The Word?\n",
      "\n",
      "Delmonico Steak. \"These are my favorite go to steaks. Best flavor steak we ever cooked. This is what we always buy when we order steaks as the flavor is amazing.\" - Jerry S. Read + Leave Reviews On Trustpilot. Over 6,300 Customer Reviews! 4.8/5.0 Stars - Excellent.\n",
      "\n",
      "On The Farm With John Wood. April 17, 2024. Alabama + Missouri Pastures. \"Utopia cattle grazing on the Alabama gulf coast and utopia sheep grazing in Lewis County, Missouri. Early April is the best of both worlds along the Gulf Coast in mature winter pastures and NE Missouri early spring grazing as winter annual forages break dormancy in late March and explode in early April. Both cattle and sheep are in some of the best pasture that is offered in the USA.\" - John Wood, 5th Generation Farmer. Walk the farm with John Wood in our On the Farm Series.\n",
      "\n",
      "Restocks.\n",
      "\n",
      "155500 - Bison Burgers\n",
      "10092 - Beef Suet\n",
      "20210 - Whole Leg of Lamb\n",
      "20220 - Lamb Boneless Shoulder Roast\n",
      "20230 - Lamb Kabobs\n",
      "20280 - Leg of Lamb Steak\n",
      "10070 - Sugar Free Beef Franks - 6 franks (1 lb. pkg)\n",
      "\n",
      "Shipping Questions? Check Out Our Shipping FAQ.\n"
     ]
    }
   ],
   "source": [
    "print(message.content)"
   ]
  },
  {
   "cell_type": "code",
   "execution_count": 9,
   "id": "90f77592-ef05-4135-a108-3cbf7fbff333",
   "metadata": {},
   "outputs": [],
   "source": [
    "tone = get_email_tone(email).content"
   ]
  },
  {
   "cell_type": "code",
   "execution_count": 10,
   "id": "80d8b355-49e3-49c1-ad4a-7d18280f0422",
   "metadata": {},
   "outputs": [
    {
     "name": "stdout",
     "output_type": "stream",
     "text": [
      "Here are the tone qualities for the text:\n",
      "\n",
      "* Tone: Informative, promotional, conversational, and slightly enthusiastic\n",
      "* Mood: Friendly, helpful, and slightly upbeat\n",
      "* Pace: Moderate, with a mix of short and longer paragraphs\n",
      "* Style: Conversational, with a mix of promotional and educational content\n",
      "* Voice: Friendly, approachable, and slightly promotional\n",
      "* Diction: Clear, concise, and conversational, with a focus on promoting products and services\n",
      "* Syntax: Varied sentence structure, with a mix of short and longer sentences\n",
      "* Imagery: Limited, with some descriptive language used to promote products\n",
      "* Theme: Promoting grass-fed and pasture-raised meats, as well as the company's values and services\n",
      "* Perspective: Third-person perspective, with some first-person comments from the company and its farmers\n"
     ]
    }
   ],
   "source": [
    "print(tone)"
   ]
  },
  {
   "cell_type": "code",
   "execution_count": 11,
   "id": "d3e9cc43-e833-4f0d-9189-fa1c65b81ad8",
   "metadata": {},
   "outputs": [],
   "source": [
    "copy = get_product_copy(tone, prod_desc).content"
   ]
  },
  {
   "cell_type": "code",
   "execution_count": 12,
   "id": "06a0ffe8-a0b6-4ad1-a969-78dfc0b110dd",
   "metadata": {},
   "outputs": [
    {
     "name": "stdout",
     "output_type": "stream",
     "text": [
      "Are You Tired of Sacrificing Nutrition for Convenience?\n",
      "\n",
      "Let's face it, we've all been there - stuck in a rut, relying on the same old boring protein sources, sacrificing nutrition for the sake of convenience. But what if I told you there's a better way? A way to get the nutrients your body craves, without sacrificing flavor or convenience?\n",
      "\n",
      "The Consequences of a Nutritionally Bankrupt Diet\n",
      "\n",
      "We've all heard the horror stories - chronic fatigue, brain fog, and a weakened immune system, all thanks to a diet lacking in essential nutrients. And let's be honest, who hasn't fallen prey to the convenience of processed foods, only to pay the price later? But what if you could have your cake and eat it too? What if you could indulge in a juicy burger, knowing you're feeding your body the good stuff?\n",
      "\n",
      "A Personal Story of Transformation\n",
      "\n",
      "I remember the day I discovered the power of organ meats. I was struggling to get the nutrients I needed, and my energy levels were at an all-time low. But then I stumbled upon the secret to unlocking optimal health - grass-fed, grass-finished beef, blended with the nutrient-dense power of bison liver and heart. It was like a switch had been flipped, and suddenly I had the energy and vitality I had been missing.\n",
      "\n",
      "The Transformation You've Been Waiting For\n",
      "\n",
      "Imagine sinking your teeth into a juicy burger, knowing you're feeding your body the nutrients it craves. Imagine the energy, the vitality, and the confidence that comes with knowing you're giving your body the best. Our Ground Organ Meat Blends are the key to unlocking this transformation. Made with 100% grass-fed, grass-finished beef, blended with 7% bison liver and 3% bison heart, this is the ultimate game-changer for anyone looking to upgrade their nutrition.\n",
      "\n",
      "Get Ready to Experience the Power of Organ Meats\n",
      "\n",
      "Our Ground Beef and Bison Organ Blend is more than just a product - it's a movement. It's a declaration of independence from the processed food industry, and a commitment to feeding your body the nutrients it deserves. And the best part? It's ridiculously easy to incorporate into your daily routine. Simply substitute our blend into your favorite recipes, and get ready to experience the transformative power of organ meats.\n",
      "\n",
      "So What Are You Waiting For?\n",
      "\n",
      "Don't let another day go by, stuck in a rut of nutritional mediocrity. Take the first step towards optimal health, and try our Ground Organ Meat Blends today. Order now, and get ready to experience the energy, vitality, and confidence that comes with feeding your body the best.\n"
     ]
    }
   ],
   "source": [
    "print(copy)"
   ]
  },
  {
   "cell_type": "markdown",
   "id": "2b9e3779-cc38-494f-9eac-d3814b777c03",
   "metadata": {},
   "source": [
    "### From scratch"
   ]
  },
  {
   "cell_type": "code",
   "execution_count": 10,
   "id": "9b75d6ae-d9a4-40b7-9037-943ed9ec4388",
   "metadata": {},
   "outputs": [],
   "source": [
    "from IPython.display import Markdown as md"
   ]
  },
  {
   "cell_type": "code",
   "execution_count": 47,
   "id": "f2a73217-866b-47ae-b756-98be33169320",
   "metadata": {},
   "outputs": [],
   "source": [
    "from langchain_core.prompts import ChatPromptTemplate, MessagesPlaceholder\n",
    "from langchain_groq import ChatGroq\n",
    "from langchain.memory import ChatMessageHistory"
   ]
  },
  {
   "cell_type": "code",
   "execution_count": 48,
   "id": "4c248917-35fa-4dcf-9dc6-7d8f28720b4d",
   "metadata": {},
   "outputs": [],
   "source": [
    "model_name=\"llama3-70b-8192\""
   ]
  },
  {
   "cell_type": "code",
   "execution_count": 49,
   "id": "1c4dfa79-57e3-42e3-8d20-6c81aff28403",
   "metadata": {},
   "outputs": [],
   "source": [
    "chat_history = ChatMessageHistory()\n",
    "chat = ChatGroq(temperature=0, model_name=model_name)"
   ]
  },
  {
   "cell_type": "code",
   "execution_count": 52,
   "id": "9b12e292-ae73-4d0a-87cb-be2f0679dc8b",
   "metadata": {},
   "outputs": [],
   "source": [
    "system = \"You are legendary copywriter Gary C Halbert, and you're helping a store owner write copy that converts.\"\n",
    "human = \"\"\"\n",
    "Previous conversation:\n",
    "{chat_history}\n",
    "\n",
    "New human question: {input}\n",
    "Response:\"\"\"\n",
    "prompt = ChatPromptTemplate.from_messages([(\"system\", system), MessagesPlaceholder(variable_name=\"chat_history\"), (\"human\", human)])\n",
    "chain = prompt | chat"
   ]
  },
  {
   "cell_type": "code",
   "execution_count": 53,
   "id": "0edf92c7-9498-4590-b2ea-e47fbfa01c8e",
   "metadata": {},
   "outputs": [],
   "source": [
    "from langchain_core.runnables.history import RunnableWithMessageHistory\n",
    "\n",
    "chain_with_message_history = RunnableWithMessageHistory(\n",
    "    chain,\n",
    "    lambda session_id: chat_history,\n",
    "    input_messages_key=\"input\",\n",
    "    history_messages_key=\"chat_history\",\n",
    ")"
   ]
  },
  {
   "cell_type": "code",
   "execution_count": 63,
   "id": "3883e7e2-b292-4a25-b650-781e68776f21",
   "metadata": {},
   "outputs": [
    {
     "data": {
      "text/plain": [
       "[]"
      ]
     },
     "execution_count": 63,
     "metadata": {},
     "output_type": "execute_result"
    }
   ],
   "source": [
    "chat_history.messages"
   ]
  },
  {
   "cell_type": "code",
   "execution_count": 54,
   "id": "dcc732d9-acd8-4270-bad6-066087f957b4",
   "metadata": {},
   "outputs": [],
   "source": [
    "email = open(\"/Users/cck197/Downloads/cleaned_foo.txt\").read()"
   ]
  },
  {
   "cell_type": "code",
   "execution_count": 55,
   "id": "af10d01a-144c-4857-afb8-7e6753bf4c16",
   "metadata": {},
   "outputs": [],
   "source": [
    "style_attrs = \"\"\"\n",
    "- Tone: The attitude conveyed by the writer towards the subject or audience.\n",
    "- Mood: The overall emotional atmosphere perceived by the reader.\n",
    "- Pace: The speed at which the story or content progresses.\n",
    "- Style: The distinctive way in which the author uses language and structure.\n",
    "- Voice: The unique personality the writer brings to the text, distinct from other authors.\n",
    "- Diction: The choice of words and their connotations, which influence the tone and readability.\n",
    "- Syntax: The arrangement of words and phrases to create well-formed sentences, affecting clarity and pace.\n",
    "- Imagery: The use of descriptive or figurative language to create vivid pictures in the reader's mind.\n",
    "- Theme: The underlying message or main idea the writer wishes to convey.\n",
    "- Perspective: The point of view from which the story is told, influencing how information is presented to the reader.\n",
    "\"\"\""
   ]
  },
  {
   "cell_type": "code",
   "execution_count": 64,
   "id": "fb0686b0-9504-4352-add5-1e1eb0a5bd17",
   "metadata": {
    "scrolled": true
   },
   "outputs": [
    {
     "name": "stderr",
     "output_type": "stream",
     "text": [
      "Parent run 6aa616fb-2edb-4d99-88f5-d5b3d27d7c00 not found for run 380c28af-6929-471a-80d9-2e155444df48. Treating as a root run.\n"
     ]
    }
   ],
   "source": [
    "message = chain_with_message_history.invoke(\n",
    "    {\"input\": f\"list the tone qualities for the text delimited by triple backticks below using the list\\n{style_attrs}```{email}``` output only the list and nothing else\"},\n",
    "    {\"configurable\": {\"session_id\": \"unused\"}},\n",
    ")"
   ]
  },
  {
   "cell_type": "code",
   "execution_count": 65,
   "id": "f7b33175-c096-4131-8e35-21b886794380",
   "metadata": {},
   "outputs": [],
   "source": [
    "tone_qualities = message.content"
   ]
  },
  {
   "cell_type": "code",
   "execution_count": 66,
   "id": "7cc7ae39-ce34-4793-8160-2b8d933f31ea",
   "metadata": {},
   "outputs": [
    {
     "data": {
      "text/markdown": [
       "Here is the list of tone qualities for the text:\n",
       "\n",
       "* Tone: Informative, conversational, and celebratory\n",
       "* Mood: Festive, educational, and promotional\n",
       "* Pace: Moderate, with a mix of short and long sentences\n",
       "* Style: Conversational, with a touch of formality\n",
       "* Voice: Friendly, knowledgeable, and enthusiastic\n",
       "* Diction: Formal, with a focus on clarity and precision\n",
       "* Syntax: Varied, with a mix of simple and complex sentences\n",
       "* Imagery: Vivid, with descriptive language used to paint a picture of Irish heritage and food\n",
       "* Theme: Celebration of St. Patrick's Day, Irish heritage, and healthy eating\n",
       "* Perspective: Third-person, with a focus on the company and its products"
      ],
      "text/plain": [
       "<IPython.core.display.Markdown object>"
      ]
     },
     "execution_count": 66,
     "metadata": {},
     "output_type": "execute_result"
    }
   ],
   "source": [
    "md(message.content)"
   ]
  },
  {
   "cell_type": "code",
   "execution_count": null,
   "id": "d01314a1-2c9f-4dfd-b04d-da146c1a7f9a",
   "metadata": {},
   "outputs": [],
   "source": [
    "message = chain_with_message_history.invoke(\n",
    "    {\"input\": f\"list the tone qualities for the text delimited by triple backticks below using the list\\n{style_attrs}```{email}``` output only the list and nothing else\"},\n",
    "    {\"configurable\": {\"session_id\": \"unused\"}},\n",
    ")"
   ]
  },
  {
   "cell_type": "code",
   "execution_count": 71,
   "id": "0c5aa7e6-908f-4b3b-bc27-932aadaf3b4b",
   "metadata": {},
   "outputs": [],
   "source": [
    "copy_instructions = \"\"\"\n",
    "use the PASTOR method \n",
    "\n",
    "'PASTOR' stands for problem, amplify, story, transformation, offer, response.\n",
    "\n",
    "work through each step below and include each in the output but without the name of the step\n",
    "\n",
    "1.  Problem: Identify your audience's pain points and challenges.\n",
    "\n",
    "2. Amplify: Amplify the consequences of not addressing the problem.\n",
    "\n",
    "3. Story: Share a relatable story or example that illustrates the problem.\n",
    "\n",
    "4. Transformation: Offer a solution that transforms the situation.\n",
    "\n",
    "5. Offer: Present your product or service as the key to achieving the transformation.\n",
    "\n",
    "6. Response: End with a clear call-to-action that encourages people to take the next step.\n",
    "\"\"\""
   ]
  },
  {
   "cell_type": "code",
   "execution_count": 72,
   "id": "b179210e-893e-4d63-9ecf-1c9d0f66c39a",
   "metadata": {},
   "outputs": [],
   "source": [
    "final_prompt = \"\"\"\n",
    "write a brief (no more than 500 words) sales email for the product delimeted by triple backticks below\n",
    "use the same tone qualities for the output\n",
    "\"\"\""
   ]
  },
  {
   "cell_type": "code",
   "execution_count": 73,
   "id": "f866ce13-0ebb-48b0-9ca9-0de396f81d17",
   "metadata": {},
   "outputs": [
    {
     "name": "stderr",
     "output_type": "stream",
     "text": [
      "Parent run 53d4dd96-b5bc-4a34-8801-3a2b8bff8358 not found for run 9a3fd23c-5bc2-415c-ad06-576792684c7f. Treating as a root run.\n"
     ]
    }
   ],
   "source": [
    "message = chain_with_message_history.invoke(\n",
    "    {\"input\": f\"{final_prompt} {copy_instructions} ```{product_desc}```\"},\n",
    "    {\"configurable\": {\"session_id\": \"unused\"}},\n",
    ")"
   ]
  },
  {
   "cell_type": "code",
   "execution_count": 74,
   "id": "17485a2f-e57b-469e-b816-c7addacfa405",
   "metadata": {},
   "outputs": [
    {
     "data": {
      "text/markdown": [
       "Here is a brief sales email for the product:\n",
       "\n",
       "Subject: Unlock the Power of Grass-Fed Ground Beef with Bison Organ Meats\n",
       "\n",
       "Dear fellow health enthusiast,\n",
       "\n",
       "Are you tired of sacrificing flavor for nutrition? Do you struggle to get enough vitamins and minerals in your diet? You're not alone. Many of us struggle to find a balance between taste and nutrition, especially when it comes to meat.\n",
       "\n",
       "But what if I told you there's a way to have it all? Imagine sinking your teeth into a juicy burger, knowing that you're not only satisfying your taste buds but also nourishing your body with the highest quality nutrients.\n",
       "\n",
       "I'm excited to introduce you to our Ground Organ Meat Blends, featuring 100% Grass-fed Ground Beef blended with 7% BISON Liver and 3% BISON Heart. This game-changing blend combines the rich flavor of grass-fed beef with the nutritional powerhouse of bison organ meats.\n",
       "\n",
       "But why is this blend so special? For starters, our grass-fed beef has an excellent Omega 6:3 ratio and CLA levels that your body needs. And with the added bonus of bison organ meats, you'll get even more nutrients, including vitamins A, B2, B3, B5, B6, B9, B12, selenium, phosphorus, zinc, iron, and copper.\n",
       "\n",
       "Imagine enjoying a delicious burger, knowing that you're fueling your body with nature's superfoods. Our Ground Beef and Bison Organ Blend is the perfect addition to keto, paleo, and carnivore diets, or simply for anyone craving a tasty and nutritious meal.\n",
       "\n",
       "For a limited time, we're offering a special deal on our 1 lb vacuum-sealed package of Ground Beef with Bison Organ Blend. Don't miss out on this opportunity to elevate your nutrition and taste buds.\n",
       "\n",
       "Click the link below to get your hands on this incredible blend and start experiencing the transformative power of grass-fed goodness.\n",
       "\n",
       "[Insert CTA button: Get Your Ground Beef and Bison Organ Blend Now]\n",
       "\n",
       "Happy cooking, and cheers to your health!\n",
       "\n",
       "Best,\n",
       "[Your Name]\n",
       "\n",
       "P.S. Don't forget to share your delicious creations with us on social media and tag us!"
      ],
      "text/plain": [
       "<IPython.core.display.Markdown object>"
      ]
     },
     "execution_count": 74,
     "metadata": {},
     "output_type": "execute_result"
    }
   ],
   "source": [
    "md(message.content)"
   ]
  },
  {
   "cell_type": "code",
   "execution_count": null,
   "id": "dacb5d7c-f04a-48a7-84a9-fae6acc4f740",
   "metadata": {},
   "outputs": [],
   "source": []
  }
 ],
 "metadata": {
  "kernelspec": {
   "display_name": "Python 3 (ipykernel)",
   "language": "python",
   "name": "python3"
  },
  "language_info": {
   "codemirror_mode": {
    "name": "ipython",
    "version": 3
   },
   "file_extension": ".py",
   "mimetype": "text/x-python",
   "name": "python",
   "nbconvert_exporter": "python",
   "pygments_lexer": "ipython3",
   "version": "3.12.3"
  }
 },
 "nbformat": 4,
 "nbformat_minor": 5
}
