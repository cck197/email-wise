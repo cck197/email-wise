{
 "cells": [
  {
   "cell_type": "code",
   "execution_count": 4,
   "id": "b3cc3b5e-e723-41e2-a402-c49ce4ff931f",
   "metadata": {},
   "outputs": [],
   "source": [
    "%load_ext dotenv\n",
    "%dotenv ../.env"
   ]
  },
  {
   "cell_type": "code",
   "execution_count": 5,
   "id": "1094abe8-1391-4931-a228-a641199ccd57",
   "metadata": {},
   "outputs": [],
   "source": [
    "import os\n",
    "from klaviyo_api import KlaviyoAPI"
   ]
  },
  {
   "cell_type": "code",
   "execution_count": 6,
   "id": "83e91288-7453-4c85-bbcf-e265908ce299",
   "metadata": {},
   "outputs": [],
   "source": [
    "klaviyo = KlaviyoAPI(os.environ[\"KLAVIYO_API_KEY\"])"
   ]
  },
  {
   "cell_type": "code",
   "execution_count": 7,
   "id": "425ad6a5-954a-4440-83ae-2f3c49a8a953",
   "metadata": {
    "collapsed": true,
    "jupyter": {
     "outputs_hidden": true
    },
    "scrolled": true
   },
   "outputs": [
    {
     "data": {
      "text/plain": [
       "{'data': [{'type': 'metric',\n",
       "   'id': 'R6pkzd',\n",
       "   'attributes': {'name': 'Bounced Email',\n",
       "    'created': '2024-04-29T21:05:18+00:00',\n",
       "    'updated': '2024-04-29T21:05:18+00:00',\n",
       "    'integration': {'object': 'integration',\n",
       "     'id': '0rG4eQ',\n",
       "     'key': 'klaviyo',\n",
       "     'name': 'Klaviyo',\n",
       "     'category': 'Internal'}},\n",
       "   'links': {'self': 'https://a.klaviyo.com/api/metrics/R6pkzd/'}},\n",
       "  {'type': 'metric',\n",
       "   'id': 'RHqpbQ',\n",
       "   'attributes': {'name': 'Opened Email',\n",
       "    'created': '2024-04-29T21:05:18+00:00',\n",
       "    'updated': '2024-04-29T21:05:18+00:00',\n",
       "    'integration': {'object': 'integration',\n",
       "     'id': '0rG4eQ',\n",
       "     'key': 'klaviyo',\n",
       "     'name': 'Klaviyo',\n",
       "     'category': 'Internal'}},\n",
       "   'links': {'self': 'https://a.klaviyo.com/api/metrics/RHqpbQ/'}},\n",
       "  {'type': 'metric',\n",
       "   'id': 'S6xELh',\n",
       "   'attributes': {'name': 'Received Automated Response SMS',\n",
       "    'created': '2024-04-29T21:05:22+00:00',\n",
       "    'updated': '2024-04-29T21:05:22+00:00',\n",
       "    'integration': {'object': 'integration',\n",
       "     'id': '0rG4eQ',\n",
       "     'key': 'klaviyo',\n",
       "     'name': 'Klaviyo',\n",
       "     'category': 'Internal'}},\n",
       "   'links': {'self': 'https://a.klaviyo.com/api/metrics/S6xELh/'}},\n",
       "  {'type': 'metric',\n",
       "   'id': 'SHyHnU',\n",
       "   'attributes': {'name': 'Failed to Deliver SMS',\n",
       "    'created': '2024-04-29T21:05:22+00:00',\n",
       "    'updated': '2024-04-29T21:05:22+00:00',\n",
       "    'integration': {'object': 'integration',\n",
       "     'id': '0rG4eQ',\n",
       "     'key': 'klaviyo',\n",
       "     'name': 'Klaviyo',\n",
       "     'category': 'Internal'}},\n",
       "   'links': {'self': 'https://a.klaviyo.com/api/metrics/SHyHnU/'}},\n",
       "  {'type': 'metric',\n",
       "   'id': 'SSPe5G',\n",
       "   'attributes': {'name': 'Dropped Email',\n",
       "    'created': '2024-04-29T21:05:18+00:00',\n",
       "    'updated': '2024-04-29T21:05:18+00:00',\n",
       "    'integration': {'object': 'integration',\n",
       "     'id': '0rG4eQ',\n",
       "     'key': 'klaviyo',\n",
       "     'name': 'Klaviyo',\n",
       "     'category': 'Internal'}},\n",
       "   'links': {'self': 'https://a.klaviyo.com/api/metrics/SSPe5G/'}},\n",
       "  {'type': 'metric',\n",
       "   'id': 'TSXygL',\n",
       "   'attributes': {'name': 'Failed to Deliver Automated Response SMS',\n",
       "    'created': '2024-04-29T21:05:22+00:00',\n",
       "    'updated': '2024-04-29T21:05:22+00:00',\n",
       "    'integration': {'object': 'integration',\n",
       "     'id': '0rG4eQ',\n",
       "     'key': 'klaviyo',\n",
       "     'name': 'Klaviyo',\n",
       "     'category': 'Internal'}},\n",
       "   'links': {'self': 'https://a.klaviyo.com/api/metrics/TSXygL/'}},\n",
       "  {'type': 'metric',\n",
       "   'id': 'TkzKZx',\n",
       "   'attributes': {'name': 'Received SMS',\n",
       "    'created': '2024-04-29T21:05:22+00:00',\n",
       "    'updated': '2024-04-29T21:05:22+00:00',\n",
       "    'integration': {'object': 'integration',\n",
       "     'id': '0rG4eQ',\n",
       "     'key': 'klaviyo',\n",
       "     'name': 'Klaviyo',\n",
       "     'category': 'Internal'}},\n",
       "   'links': {'self': 'https://a.klaviyo.com/api/metrics/TkzKZx/'}},\n",
       "  {'type': 'metric',\n",
       "   'id': 'TvQgGj',\n",
       "   'attributes': {'name': 'Clicked Email',\n",
       "    'created': '2024-04-29T21:05:18+00:00',\n",
       "    'updated': '2024-04-29T21:05:18+00:00',\n",
       "    'integration': {'object': 'integration',\n",
       "     'id': '0rG4eQ',\n",
       "     'key': 'klaviyo',\n",
       "     'name': 'Klaviyo',\n",
       "     'category': 'Internal'}},\n",
       "   'links': {'self': 'https://a.klaviyo.com/api/metrics/TvQgGj/'}},\n",
       "  {'type': 'metric',\n",
       "   'id': 'UvYATp',\n",
       "   'attributes': {'name': 'Unsubscribed from SMS Marketing',\n",
       "    'created': '2024-04-29T21:05:22+00:00',\n",
       "    'updated': '2024-04-29T21:05:22+00:00',\n",
       "    'integration': {'object': 'integration',\n",
       "     'id': '0rG4eQ',\n",
       "     'key': 'klaviyo',\n",
       "     'name': 'Klaviyo',\n",
       "     'category': 'Internal'}},\n",
       "   'links': {'self': 'https://a.klaviyo.com/api/metrics/UvYATp/'}},\n",
       "  {'type': 'metric',\n",
       "   'id': 'V8ZDw2',\n",
       "   'attributes': {'name': 'Clicked SMS',\n",
       "    'created': '2024-04-29T21:05:22+00:00',\n",
       "    'updated': '2024-04-29T21:05:22+00:00',\n",
       "    'integration': {'object': 'integration',\n",
       "     'id': '0rG4eQ',\n",
       "     'key': 'klaviyo',\n",
       "     'name': 'Klaviyo',\n",
       "     'category': 'Internal'}},\n",
       "   'links': {'self': 'https://a.klaviyo.com/api/metrics/V8ZDw2/'}},\n",
       "  {'type': 'metric',\n",
       "   'id': 'VVhcPr',\n",
       "   'attributes': {'name': 'Active on Site',\n",
       "    'created': '2024-04-29T21:05:18+00:00',\n",
       "    'updated': '2024-04-29T21:05:18+00:00',\n",
       "    'integration': {'object': 'integration',\n",
       "     'id': '7FtS4J',\n",
       "     'key': 'api',\n",
       "     'name': 'API',\n",
       "     'category': 'API'}},\n",
       "   'links': {'self': 'https://a.klaviyo.com/api/metrics/VVhcPr/'}},\n",
       "  {'type': 'metric',\n",
       "   'id': 'VigacN',\n",
       "   'attributes': {'name': 'Clicked email to unsubscribe',\n",
       "    'created': '2024-04-29T21:05:18+00:00',\n",
       "    'updated': '2024-04-29T21:05:18+00:00',\n",
       "    'integration': {'object': 'integration',\n",
       "     'id': '0rG4eQ',\n",
       "     'key': 'klaviyo',\n",
       "     'name': 'Klaviyo',\n",
       "     'category': 'Internal'}},\n",
       "   'links': {'self': 'https://a.klaviyo.com/api/metrics/VigacN/'}},\n",
       "  {'type': 'metric',\n",
       "   'id': 'WiqupS',\n",
       "   'attributes': {'name': 'Subscribed to SMS Marketing',\n",
       "    'created': '2024-04-29T21:05:22+00:00',\n",
       "    'updated': '2024-04-29T21:05:22+00:00',\n",
       "    'integration': {'object': 'integration',\n",
       "     'id': '0rG4eQ',\n",
       "     'key': 'klaviyo',\n",
       "     'name': 'Klaviyo',\n",
       "     'category': 'Internal'}},\n",
       "   'links': {'self': 'https://a.klaviyo.com/api/metrics/WiqupS/'}},\n",
       "  {'type': 'metric',\n",
       "   'id': 'X6G3Hh',\n",
       "   'attributes': {'name': 'Marked Email as Spam',\n",
       "    'created': '2024-04-29T21:05:18+00:00',\n",
       "    'updated': '2024-04-29T21:05:18+00:00',\n",
       "    'integration': {'object': 'integration',\n",
       "     'id': '0rG4eQ',\n",
       "     'key': 'klaviyo',\n",
       "     'name': 'Klaviyo',\n",
       "     'category': 'Internal'}},\n",
       "   'links': {'self': 'https://a.klaviyo.com/api/metrics/X6G3Hh/'}},\n",
       "  {'type': 'metric',\n",
       "   'id': 'XHH6jU',\n",
       "   'attributes': {'name': 'Received Email',\n",
       "    'created': '2024-04-29T21:05:18+00:00',\n",
       "    'updated': '2024-04-29T21:05:18+00:00',\n",
       "    'integration': {'object': 'integration',\n",
       "     'id': '0rG4eQ',\n",
       "     'key': 'klaviyo',\n",
       "     'name': 'Klaviyo',\n",
       "     'category': 'Internal'}},\n",
       "   'links': {'self': 'https://a.klaviyo.com/api/metrics/XHH6jU/'}},\n",
       "  {'type': 'metric',\n",
       "   'id': 'Y6QmUm',\n",
       "   'attributes': {'name': 'Sent SMS',\n",
       "    'created': '2024-04-29T21:05:22+00:00',\n",
       "    'updated': '2024-04-29T21:05:22+00:00',\n",
       "    'integration': {'object': 'integration',\n",
       "     'id': '0rG4eQ',\n",
       "     'key': 'klaviyo',\n",
       "     'name': 'Klaviyo',\n",
       "     'category': 'Internal'}},\n",
       "   'links': {'self': 'https://a.klaviyo.com/api/metrics/Y6QmUm/'}}],\n",
       " 'links': {'self': 'https://a.klaviyo.com/api/metrics/',\n",
       "  'next': None,\n",
       "  'prev': None}}"
      ]
     },
     "execution_count": 7,
     "metadata": {},
     "output_type": "execute_result"
    }
   ],
   "source": [
    "klaviyo.Metrics.get_metrics() "
   ]
  },
  {
   "cell_type": "code",
   "execution_count": 17,
   "id": "1f970ef4-741d-4767-a696-d788e4295fc7",
   "metadata": {},
   "outputs": [
    {
     "data": {
      "text/plain": [
       "{'data': [{'type': 'campaign',\n",
       "   'id': '01HWNTWW47VMBR99KEDW5N9YBR',\n",
       "   'attributes': {'name': 'Internal Klaviyo - Test Campaign Name',\n",
       "    'status': 'Sent',\n",
       "    'archived': False,\n",
       "    'audiences': {'included': ['WgYJhH'], 'excluded': []},\n",
       "    'send_options': {'use_smart_sending': False, 'ignore_unsubscribes': False},\n",
       "    'tracking_options': {'is_add_utm': False,\n",
       "     'utm_params': [],\n",
       "     'is_tracking_clicks': True,\n",
       "     'is_tracking_opens': True},\n",
       "    'send_strategy': {'method': 'immediate',\n",
       "     'options_static': None,\n",
       "     'options_throttled': None,\n",
       "     'options_sto': None},\n",
       "    'created_at': '2024-04-29T21:06:43.464192+00:00',\n",
       "    'scheduled_at': None,\n",
       "    'updated_at': '2024-04-29T21:06:43.464231+00:00',\n",
       "    'send_time': None},\n",
       "   'relationships': {'campaign-messages': {'data': [{'type': 'campaign-message',\n",
       "       'id': '01HWNTWW4CNE8MH82QZDTD4EE9'}],\n",
       "     'links': {'self': 'https://a.klaviyo.com/api/campaigns/01HWNTWW47VMBR99KEDW5N9YBR/relationships/campaign-messages/',\n",
       "      'related': 'https://a.klaviyo.com/api/campaigns/01HWNTWW47VMBR99KEDW5N9YBR/campaign-messages/'}},\n",
       "    'tags': {'links': {'self': 'https://a.klaviyo.com/api/campaigns/01HWNTWW47VMBR99KEDW5N9YBR/relationships/tags/',\n",
       "      'related': 'https://a.klaviyo.com/api/campaigns/01HWNTWW47VMBR99KEDW5N9YBR/tags/'}}},\n",
       "   'links': {'self': 'https://a.klaviyo.com/api/campaigns/01HWNTWW47VMBR99KEDW5N9YBR/'}}],\n",
       " 'links': {'self': 'https://a.klaviyo.com/api/campaigns/?filter=equals%28messages.channel%2C%27email%27%29',\n",
       "  'next': None,\n",
       "  'prev': None}}"
      ]
     },
     "execution_count": 17,
     "metadata": {},
     "output_type": "execute_result"
    }
   ],
   "source": [
    "klaviyo.Campaigns.get_campaigns(\"equals(messages.channel,'email')\")"
   ]
  },
  {
   "cell_type": "markdown",
   "id": "4308f6b4-301e-4674-9a40-d76a20528cf1",
   "metadata": {},
   "source": [
    "### Create a template using the newletter archive in the database"
   ]
  },
  {
   "cell_type": "code",
   "execution_count": 8,
   "id": "858a3b63-8bb3-477e-b653-8adefc3785ce",
   "metadata": {},
   "outputs": [],
   "source": [
    "from prisma import Prisma\n",
    "db = Prisma()\n",
    "await db.connect()"
   ]
  },
  {
   "cell_type": "code",
   "execution_count": 9,
   "id": "e53a574b-534d-46e1-a7cf-ae8e359f06b9",
   "metadata": {},
   "outputs": [],
   "source": [
    "emails = await db.email.find_many(order=\n",
    "    {\n",
    "        \"createdAt\": \"desc\",\n",
    "    }, take=10)"
   ]
  },
  {
   "cell_type": "code",
   "execution_count": 10,
   "id": "11556754-7a53-4624-be4d-74667188155a",
   "metadata": {},
   "outputs": [],
   "source": [
    "e = emails[3]"
   ]
  },
  {
   "cell_type": "code",
   "execution_count": 11,
   "id": "b445701b-0a5b-4102-9959-bd3243fff063",
   "metadata": {},
   "outputs": [
    {
     "data": {
      "text/plain": [
       "'Subject: Unlock the Secret to Radiant Health and Delicious Meals!'"
      ]
     },
     "execution_count": 11,
     "metadata": {},
     "output_type": "execute_result"
    }
   ],
   "source": [
    "e.name"
   ]
  },
  {
   "cell_type": "code",
   "execution_count": 19,
   "id": "4a0b8584-2411-4255-ae0f-b919050d8f40",
   "metadata": {},
   "outputs": [],
   "source": [
    "body = {\n",
    "    \"data\": {\n",
    "        \"type\": \"template\",\n",
    "        \"attributes\": {\n",
    "          \"name\": e.name,\n",
    "          \"editor_type\": \"CODE\",\n",
    "          \"html\": e.html.replace(\"\\n\", \"<br/>\"),\n",
    "          \"text\": e.text\n",
    "        }\n",
    "    }\n",
    "}"
   ]
  },
  {
   "cell_type": "code",
   "execution_count": 20,
   "id": "78fddb7b-3bbd-47c5-b0fd-17e3893e9091",
   "metadata": {},
   "outputs": [],
   "source": [
    "template = klaviyo.Templates.create_template(body)"
   ]
  },
  {
   "cell_type": "code",
   "execution_count": 21,
   "id": "bdf1fc17-1459-47a9-8012-09c780f0c556",
   "metadata": {},
   "outputs": [
    {
     "data": {
      "text/plain": [
       "{'data': {'type': 'template',\n",
       "  'id': 'Y67A2A',\n",
       "  'attributes': {'name': 'Subject: Unlock the Secret to Radiant Health and Delicious Meals!',\n",
       "   'editor_type': 'CODE',\n",
       "   'html': '<html><head></head><body><p>Subject: Unlock the Secret to Radiant Health and Delicious Meals!<br/><br/>Hey there, fellow foodie!<br/><br/>Are you tired of feeling sluggish, bloated, and stuck in a culinary rut? Do you dream of having radiant skin, a robust immune system, and a kitchen that\\'s always buzzing with flavor and excitement?<br/><br/>Let\\'s face it: we\\'ve all been there. We\\'ve all struggled with digestive issues, joint pain, and the frustration of cooking the same old recipes over and over again. But what if I told you there\\'s a game-changer waiting in the wings?<br/><br/>I\\'m talking about the incredible, the amazing, the utterly fantastic Fully Cooked Beef Gelatin from Grass-fed, Grass-finished Beef! This isn\\'t just any old gelatin, my friend. Oh no! This is the crème de la crème (pun intended) of gelatins, packed with nutrient-dense marrow, reduced cartilage, and bone minerals that will make your taste buds do the happy dance.<br/><br/>But wait, there\\'s more! This magical elixir is also a powerhouse of proline and glycine, two amino acids that are essential for healthy connective tissue, glowing skin, and a robust immune system. It\\'s like a warm hug for your insides!<br/><br/>Now, I know what you\\'re thinking: \"But I\\'m not a great cook!\" Fear not, my friend! This gelatin is ridiculously easy to use, and it will elevate even the most basic recipes into culinary masterpieces. Imagine whipping up a hearty stew or soup that\\'s not only delicious but also packed with nutrients. It\\'s like having your own personal chef ( minus the attitude and astronomical prices)!<br/><br/>So, what are you waiting for? Unlock the secret to radiant health, culinary mastery, and a kitchen that\\'s always buzzing with excitement! Get your hands on US Wellness Meats\\' Fully Cooked Beef Gelatin today and start cooking your way to a happier, healthier you!<br/><br/>Ready to take the first step towards a culinary revolution? Click the link below to get your gelatin and start cooking up a storm!<br/><br/>[Insert CTA button: Get Your Gelatin Now!]<br/><br/>Happy cooking, and see you in the kitchen!<br/><br/>Best, [Your Name]</p></body></html>',\n",
       "   'text': 'Subject: Unlock the Secret to Radiant Health and Delicious Meals!\\n\\nHey there, fellow foodie!\\n\\nAre you tired of feeling sluggish, bloated, and stuck in a culinary rut? Do you dream of having radiant skin, a robust immune system, and a kitchen that\\'s always buzzing with flavor and excitement?\\n\\nLet\\'s face it: we\\'ve all been there. We\\'ve all struggled with digestive issues, joint pain, and the frustration of cooking the same old recipes over and over again. But what if I told you there\\'s a game-changer waiting in the wings?\\n\\nI\\'m talking about the incredible, the amazing, the utterly fantastic Fully Cooked Beef Gelatin from Grass-fed, Grass-finished Beef! This isn\\'t just any old gelatin, my friend. Oh no! This is the crème de la crème (pun intended) of gelatins, packed with nutrient-dense marrow, reduced cartilage, and bone minerals that will make your taste buds do the happy dance.\\n\\nBut wait, there\\'s more! This magical elixir is also a powerhouse of proline and glycine, two amino acids that are essential for healthy connective tissue, glowing skin, and a robust immune system. It\\'s like a warm hug for your insides!\\n\\nNow, I know what you\\'re thinking: \"But I\\'m not a great cook!\" Fear not, my friend! This gelatin is ridiculously easy to use, and it will elevate even the most basic recipes into culinary masterpieces. Imagine whipping up a hearty stew or soup that\\'s not only delicious but also packed with nutrients. It\\'s like having your own personal chef ( minus the attitude and astronomical prices)!\\n\\nSo, what are you waiting for? Unlock the secret to radiant health, culinary mastery, and a kitchen that\\'s always buzzing with excitement! Get your hands on US Wellness Meats\\' Fully Cooked Beef Gelatin today and start cooking your way to a happier, healthier you!\\n\\nReady to take the first step towards a culinary revolution? Click the link below to get your gelatin and start cooking up a storm!\\n\\n[Insert CTA button: Get Your Gelatin Now!]\\n\\nHappy cooking, and see you in the kitchen!\\n\\nBest, [Your Name]',\n",
       "   'created': '2024-05-14T14:26:04.192433+00:00',\n",
       "   'updated': '2024-05-14T14:26:04.192475+00:00'},\n",
       "  'links': {'self': 'https://a.klaviyo.com/api/templates/Y67A2A/'}}}"
      ]
     },
     "execution_count": 21,
     "metadata": {},
     "output_type": "execute_result"
    }
   ],
   "source": [
    "template"
   ]
  },
  {
   "cell_type": "code",
   "execution_count": 22,
   "id": "f871610b-1b19-4f9f-bf8b-e075400b611f",
   "metadata": {},
   "outputs": [
    {
     "data": {
      "text/plain": [
       "'Y67A2A'"
      ]
     },
     "execution_count": 22,
     "metadata": {},
     "output_type": "execute_result"
    }
   ],
   "source": [
    "template_id = template[\"data\"][\"id\"]; template_id"
   ]
  },
  {
   "cell_type": "markdown",
   "id": "d3b49abc-1ca9-4208-b7c3-639cdc3b2e4c",
   "metadata": {},
   "source": [
    "OK great, now you can see the template here, under the \"Saved templates\" tab https://www.klaviyo.com/templates/list"
   ]
  },
  {
   "cell_type": "markdown",
   "id": "f0c5b2da-6ecb-4e5d-805e-e8251ebd014e",
   "metadata": {},
   "source": [
    "### Create a Campaign using the template"
   ]
  },
  {
   "cell_type": "code",
   "execution_count": 23,
   "id": "c1ac3677-b8c0-4df4-8799-f34ac8830ba4",
   "metadata": {},
   "outputs": [],
   "source": [
    "lists = klaviyo.Lists.get_lists(filter=\"equals(name,'Sample Data List')\")"
   ]
  },
  {
   "cell_type": "code",
   "execution_count": 24,
   "id": "47a02169-3c50-45d2-8ac0-473c748e140f",
   "metadata": {},
   "outputs": [
    {
     "data": {
      "text/plain": [
       "{'data': [{'type': 'list',\n",
       "   'id': 'WgYJhH',\n",
       "   'attributes': {'name': 'Sample Data List',\n",
       "    'created': '2024-04-29T21:06:41+00:00',\n",
       "    'updated': '2024-04-29T21:06:41+00:00',\n",
       "    'opt_in_process': 'double_opt_in'},\n",
       "   'relationships': {'profiles': {'links': {'self': 'https://a.klaviyo.com/api/lists/WgYJhH/relationships/profiles/',\n",
       "      'related': 'https://a.klaviyo.com/api/lists/WgYJhH/profiles/'}},\n",
       "    'tags': {'links': {'self': 'https://a.klaviyo.com/api/lists/WgYJhH/relationships/tags/',\n",
       "      'related': 'https://a.klaviyo.com/api/lists/WgYJhH/tags/'}}},\n",
       "   'links': {'self': 'https://a.klaviyo.com/api/lists/WgYJhH/'}}],\n",
       " 'links': {'self': 'https://a.klaviyo.com/api/lists/?filter=equals%28name%2C%27Sample%20Data%20List%27%29',\n",
       "  'next': None,\n",
       "  'prev': 'https://a.klaviyo.com/api/lists/?filter=equals%28name%2C%27Sample+Data+List%27%29&page%5Bcursor%5D=%3CFilters%3A+equals%28name%2C%27Sample+Data+List%27%29%3E'}}"
      ]
     },
     "execution_count": 24,
     "metadata": {},
     "output_type": "execute_result"
    }
   ],
   "source": [
    "lists"
   ]
  },
  {
   "cell_type": "code",
   "execution_count": 25,
   "id": "698a7d27-424d-460e-a9ff-00136f25dfd0",
   "metadata": {},
   "outputs": [
    {
     "data": {
      "text/plain": [
       "'WgYJhH'"
      ]
     },
     "execution_count": 25,
     "metadata": {},
     "output_type": "execute_result"
    }
   ],
   "source": [
    "list_id = lists[\"data\"][0][\"id\"]; list_id"
   ]
  },
  {
   "cell_type": "code",
   "execution_count": 36,
   "id": "951335ec-0845-4d7c-afdc-2db5c991cc2c",
   "metadata": {},
   "outputs": [],
   "source": [
    "preview_text = template[\"data\"][\"attributes\"][\"text\"][:100]"
   ]
  },
  {
   "cell_type": "code",
   "execution_count": 32,
   "id": "5dd2a990-f24e-445b-b35d-44d3e50e47c2",
   "metadata": {},
   "outputs": [
    {
     "data": {
      "text/plain": [
       "'Subject: Unlock the Secret to Radiant Health and Delicious Meals!'"
      ]
     },
     "execution_count": 32,
     "metadata": {},
     "output_type": "execute_result"
    }
   ],
   "source": [
    "name = template[\"data\"][\"attributes\"][\"name\"]; name"
   ]
  },
  {
   "cell_type": "code",
   "execution_count": 37,
   "id": "787ce043-b121-43c7-8434-f5ed7a7d6aaf",
   "metadata": {},
   "outputs": [],
   "source": [
    "body = {\n",
    "    \"data\": {\n",
    "        \"type\": \"campaign\",\n",
    "        \"attributes\": {\n",
    "            \"name\": name,\n",
    "            \"audiences\": {\n",
    "                \"included\": [list_id],\n",
    "                \"send_strategy\": \"immediate\",\n",
    "            },\n",
    "            \"campaign-messages\": {\n",
    "                \"data\": [\n",
    "                    {\n",
    "                        \"type\": \"campaign-message\",\n",
    "                        \"attributes\": {\n",
    "                            \"channel\": \"email\",\n",
    "                            \"label\": name,\n",
    "                            \"content\": {\n",
    "                                \"subject\": name,\n",
    "                                \"preview_text\": preview_text,\n",
    "                                \"from_email\": \"store@my-company.com\",\n",
    "                                \"from_label\": \"My Company\",\n",
    "                                \"reply_to_email\": \"reply-to@my-company.com\",\n",
    "                                \"cc_email\": \"cc@my-company.com\",\n",
    "                                \"bcc_email\": \"bcc@my-company.com\",\n",
    "                            },\n",
    "                            \"render_options\": {\n",
    "                                \"shorten_links\": True,\n",
    "                                \"add_org_prefix\": True,\n",
    "                                \"add_info_link\": True,\n",
    "                                \"add_opt_out_language\": False,\n",
    "                            },\n",
    "                        },\n",
    "                    }\n",
    "                ]\n",
    "            },\n",
    "        },\n",
    "    }\n",
    "}"
   ]
  },
  {
   "cell_type": "code",
   "execution_count": 38,
   "id": "ca56cbe5-8b67-46c1-8af5-50c380d7d013",
   "metadata": {},
   "outputs": [
    {
     "data": {
      "text/plain": [
       "{'data': {'type': 'campaign',\n",
       "  'id': '01HXVRFVAY2J0AD31QW4QF7K98',\n",
       "  'attributes': {'name': 'Subject: Unlock the Secret to Radiant Health and Delicious Meals!',\n",
       "   'status': 'Draft',\n",
       "   'archived': False,\n",
       "   'audiences': {'included': ['WgYJhH'], 'excluded': []},\n",
       "   'send_options': {'use_smart_sending': True, 'ignore_unsubscribes': False},\n",
       "   'tracking_options': {'is_add_utm': False,\n",
       "    'utm_params': [],\n",
       "    'is_tracking_clicks': True,\n",
       "    'is_tracking_opens': True},\n",
       "   'send_strategy': {'method': 'immediate',\n",
       "    'options_static': None,\n",
       "    'options_throttled': None,\n",
       "    'options_sto': None},\n",
       "   'created_at': '2024-05-14T14:35:47.935504+00:00',\n",
       "   'scheduled_at': None,\n",
       "   'updated_at': '2024-05-14T14:35:48.012830+00:00',\n",
       "   'send_time': None},\n",
       "  'relationships': {'campaign-messages': {'data': [{'type': 'campaign-message',\n",
       "      'id': '01HXVRFVB3378AX2XS98GHCPH6'}],\n",
       "    'links': {'self': 'https://a.klaviyo.com/api/campaigns/01HXVRFVAY2J0AD31QW4QF7K98/relationships/campaign-messages/',\n",
       "     'related': 'https://a.klaviyo.com/api/campaigns/01HXVRFVAY2J0AD31QW4QF7K98/campaign-messages/'}},\n",
       "   'tags': {'links': {'self': 'https://a.klaviyo.com/api/campaigns/01HXVRFVAY2J0AD31QW4QF7K98/relationships/tags/',\n",
       "     'related': 'https://a.klaviyo.com/api/campaigns/01HXVRFVAY2J0AD31QW4QF7K98/tags/'}}},\n",
       "  'links': {'self': 'https://a.klaviyo.com/api/campaigns/01HXVRFVAY2J0AD31QW4QF7K98/'}}}"
      ]
     },
     "execution_count": 38,
     "metadata": {},
     "output_type": "execute_result"
    }
   ],
   "source": [
    "campaign = klaviyo.Campaigns.create_campaign(body); campaign"
   ]
  },
  {
   "cell_type": "markdown",
   "id": "fa993f56-6a05-496e-9c1a-5f072586ea58",
   "metadata": {},
   "source": [
    "Associate the campaign with a template"
   ]
  },
  {
   "cell_type": "code",
   "execution_count": 41,
   "id": "b36fced4-9230-4338-8864-bd4ed8c29252",
   "metadata": {},
   "outputs": [
    {
     "data": {
      "text/plain": [
       "'01HXVRFVB3378AX2XS98GHCPH6'"
      ]
     },
     "execution_count": 41,
     "metadata": {},
     "output_type": "execute_result"
    }
   ],
   "source": [
    "campaign_id = campaign[\"data\"][\"relationships\"][\"campaign-messages\"][\"data\"][0][\"id\"]; campaign_id"
   ]
  },
  {
   "cell_type": "code",
   "execution_count": 42,
   "id": "78ceb532-b463-4979-983b-21b0ca45b2de",
   "metadata": {},
   "outputs": [],
   "source": [
    "body =  {\n",
    "    \"data\": {\n",
    "        \"type\": \"campaign-message\",\n",
    "        \"id\": campaign_id,\n",
    "        \"relationships\": {\"template\": {\"data\": {\"type\": \"template\", \"id\": template_id}}},\n",
    "    }\n",
    "}"
   ]
  },
  {
   "cell_type": "code",
   "execution_count": 43,
   "id": "dd02144c-2d8a-4e23-aa61-02140b09cc8b",
   "metadata": {},
   "outputs": [],
   "source": [
    "klaviyo.Campaigns.create_campaign_message_assign_template(body)"
   ]
  },
  {
   "cell_type": "code",
   "execution_count": null,
   "id": "ef9edd5b-c748-4991-a808-5539711ce89e",
   "metadata": {},
   "outputs": [],
   "source": []
  }
 ],
 "metadata": {
  "kernelspec": {
   "display_name": "Python 3 (ipykernel)",
   "language": "python",
   "name": "python3"
  },
  "language_info": {
   "codemirror_mode": {
    "name": "ipython",
    "version": 3
   },
   "file_extension": ".py",
   "mimetype": "text/x-python",
   "name": "python",
   "nbconvert_exporter": "python",
   "pygments_lexer": "ipython3",
   "version": "3.12.3"
  }
 },
 "nbformat": 4,
 "nbformat_minor": 5
}
