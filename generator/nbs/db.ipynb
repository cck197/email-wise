{
 "cells": [
  {
   "cell_type": "code",
   "execution_count": 1,
   "id": "fd53f4d9-cadd-4440-b519-f89e247ab10f",
   "metadata": {},
   "outputs": [],
   "source": [
    "%load_ext dotenv\n",
    "%dotenv ../.env"
   ]
  },
  {
   "cell_type": "code",
   "execution_count": 3,
   "id": "d54ade9e-bd7c-41f4-b24b-8f5fc2da82dc",
   "metadata": {},
   "outputs": [],
   "source": [
    "from generator.email_generator import *\n",
    "from generator.db import *"
   ]
  },
  {
   "cell_type": "code",
   "execution_count": 10,
   "id": "fbe4b38f-efd3-42e7-b4ef-dd92f7baf85e",
   "metadata": {},
   "outputs": [],
   "source": [
    "db = await get_db()"
   ]
  },
  {
   "cell_type": "code",
   "execution_count": 13,
   "id": "17c62c42-1034-4fde-8edd-62f6133456ad",
   "metadata": {},
   "outputs": [],
   "source": [
    "generator = await db.emailgenerator.find_first()"
   ]
  },
  {
   "cell_type": "code",
   "execution_count": 14,
   "id": "7f48f50e-e2ab-4dd3-8ad6-3b0becc2c58f",
   "metadata": {},
   "outputs": [
    {
     "data": {
      "text/plain": [
       "'Wild Alaskan Black Cod – also known as butterfish or sablefish – caught in waters nearly 2,500 feet deep. Because it lives in deep, cold waters, Black Cod accumulates far more fat – and omega-3 fatty acids – than most other fish, making it mouthwateringly delicious. You\\'re in for a serious treat when you try Lummi Island Wild Black Cod. These wild-caught fish have a sweet flavor and velvety texture. BONELESS / Skin-on filet Wild, Natural and Sustainably harvested Wild Alaskan Black Cod from Lummi Island Wild is caught off Alaska\\'s pristine coast using hook and line fishing techniques. Certified sustainable by the Monterey Bay Aquarium\\'s Seafood WatchSablefish provides many more omega-3s than any other white fish. In fact, sablefish actually features more omega-3s than any wild salmon, except king.And, thanks to its extraordinarily high fat content, sablefish is also more \"forgiving” of chef errors than other fish. Anyone – even folks with no experience cooking fish, or who fear failure – can turn out perfectly baked, sautéed, or grilled sablefish! Each package contains 1 (5-ounce) skin-on, boneless filet.'"
      ]
     },
     "execution_count": 14,
     "metadata": {},
     "output_type": "execute_result"
    }
   ],
   "source": [
    "generator.productDescription"
   ]
  },
  {
   "cell_type": "code",
   "execution_count": null,
   "id": "80d085e3-e74b-4790-91de-731b8192b325",
   "metadata": {},
   "outputs": [],
   "source": []
  }
 ],
 "metadata": {
  "kernelspec": {
   "display_name": "Python 3 (ipykernel)",
   "language": "python",
   "name": "python3"
  },
  "language_info": {
   "codemirror_mode": {
    "name": "ipython",
    "version": 3
   },
   "file_extension": ".py",
   "mimetype": "text/x-python",
   "name": "python",
   "nbconvert_exporter": "python",
   "pygments_lexer": "ipython3",
   "version": "3.12.3"
  }
 },
 "nbformat": 4,
 "nbformat_minor": 5
}
