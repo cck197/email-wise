{
 "cells": [
  {
   "cell_type": "code",
   "execution_count": 1,
   "id": "dd44a272-4b38-428f-a6b5-9bd72970a82d",
   "metadata": {},
   "outputs": [],
   "source": [
    "%load_ext dotenv\n",
    "%dotenv ../.env"
   ]
  },
  {
   "cell_type": "code",
   "execution_count": 2,
   "id": "bbf7f3bc-7bf4-4080-b8de-8158c072a528",
   "metadata": {},
   "outputs": [],
   "source": [
    "from generator.email_generator import *\n",
    "from generator.db import *"
   ]
  },
  {
   "cell_type": "code",
   "execution_count": 3,
   "id": "b869315a-6391-4836-b2dd-b7e04daa083c",
   "metadata": {},
   "outputs": [],
   "source": [
    "db = await connect()"
   ]
  },
  {
   "cell_type": "code",
   "execution_count": 6,
   "id": "296014ec-f182-4fa0-8836-ee86b8a49256",
   "metadata": {},
   "outputs": [],
   "source": [
    "generator = await get_email_generator(db, 59)"
   ]
  },
  {
   "cell_type": "code",
   "execution_count": 8,
   "id": "9505f5a6-6971-4077-9f63-dfa9d42384cf",
   "metadata": {},
   "outputs": [
    {
     "data": {
      "text/plain": [
       "'Neutral'"
      ]
     },
     "execution_count": 8,
     "metadata": {},
     "output_type": "execute_result"
    }
   ],
   "source": [
    "generator.tone.name"
   ]
  },
  {
   "cell_type": "code",
   "execution_count": 8,
   "id": "c170b51d-2e52-414c-ace5-8ef6af8d3a3c",
   "metadata": {},
   "outputs": [
    {
     "data": {
      "text/plain": [
       "<prisma.actions.ToneActions at 0x108dbc5b0>"
      ]
     },
     "execution_count": 8,
     "metadata": {},
     "output_type": "execute_result"
    }
   ],
   "source": [
    "getattr(db, \"tone\")"
   ]
  },
  {
   "cell_type": "code",
   "execution_count": 4,
   "id": "b59b7bb2-7245-4be5-9bf7-281cb0622ac3",
   "metadata": {},
   "outputs": [],
   "source": [
    "email_generator = await get_email_generator(db, 35)"
   ]
  },
  {
   "cell_type": "code",
   "execution_count": 5,
   "id": "96d68945-abb3-48a6-9fb1-ab9d06ff8c54",
   "metadata": {},
   "outputs": [],
   "source": [
    "sample_email = await get_sample_email(db, email_generator.shop)"
   ]
  },
  {
   "cell_type": "code",
   "execution_count": 12,
   "id": "fae212d5-2183-4f6a-a7ec-65bc3b62128b",
   "metadata": {
    "collapsed": true,
    "jupyter": {
     "outputs_hidden": true
    }
   },
   "outputs": [
    {
     "data": {
      "text/plain": [
       "Email(id=2117, shop='quickstart-3d7b636b.myshopify.com', name='Subject: Limited Time Offer: Get Your Hands on the Nutrient-Dense Pastured Duck Livers!', html=\"Subject: Limited Time Offer: Get Your Hands on the Nutrient-Dense Pastured Duck Livers!\\n\\nHey there, fellow health enthusiast!\\n\\nAre you tired of sacrificing flavor for nutrition? Do you struggle to find high-quality, sustainable ingredients that align with your healthy lifestyle? Well, today's your lucky day!\\n\\nWe're thrilled to announce that we've secured an extremely limited supply of Pastured Duck Livers in 5lb packages. These gourmet delicacies are packed with vitamins A and B12, iron, copper, selenium, and all nine essential amino acids. In short, they're a nutritional powerhouse for healthy red blood cells, nerves, bones, and immune systems!\\n\\nImagine sinking your teeth into a rich, creamy duck liver pâté or savoring the deep flavors of pan-seared duck livers. Our free-range American Pekin ducks enjoy a diverse diet of grasses, legumes, and insects, supplemented with non-GMO feed. And, as always, our ducks are raised without growth hormones or antibiotics.\\n\\nHere's the best part: this limited supply won't last long! We're offering these 5lb packages at an unbeatable price, but you must act fast. Don't miss this opportunity to elevate your cooking game and nourish your body with the best.\\n\\nReady to indulge in the rich flavors and nutritional benefits of our Pastured Duck Livers? Click the link below to secure your package today!\\n\\n**Limited Time Offer: Get Your 5lb Package of Pastured Duck Livers Now!**\\n\\n[Insert CTA button: Shop Now]\\n\\nAs a valued customer, we're giving you exclusive access to this limited supply. Don't wait – stock up on these nutrient-dense delicacies and start cooking your way to a healthier, happier you!\\n\\nHappy cooking, and thank you for choosing US Wellness Meats!\\n\\nBest, [Your Name]\\n\\nP.S. Don't forget to share your duck liver creations with us on social media! We love seeing how you get creative with our products!\", text=\"Subject: Limited Time Offer: Get Your Hands on the Nutrient-Dense Pastured Duck Livers!\\n\\nHey there, fellow health enthusiast!\\n\\nAre you tired of sacrificing flavor for nutrition? Do you struggle to find high-quality, sustainable ingredients that align with your healthy lifestyle? Well, today's your lucky day!\\n\\nWe're thrilled to announce that we've secured an extremely limited supply of Pastured Duck Livers in 5lb packages. These gourmet delicacies are packed with vitamins A and B12, iron, copper, selenium, and all nine essential amino acids. In short, they're a nutritional powerhouse for healthy red blood cells, nerves, bones, and immune systems!\\n\\nImagine sinking your teeth into a rich, creamy duck liver pâté or savoring the deep flavors of pan-seared duck livers. Our free-range American Pekin ducks enjoy a diverse diet of grasses, legumes, and insects, supplemented with non-GMO feed. And, as always, our ducks are raised without growth hormones or antibiotics.\\n\\nHere's the best part: this limited supply won't last long! We're offering these 5lb packages at an unbeatable price, but you must act fast. Don't miss this opportunity to elevate your cooking game and nourish your body with the best.\\n\\nReady to indulge in the rich flavors and nutritional benefits of our Pastured Duck Livers? Click the link below to secure your package today!\\n\\n**Limited Time Offer: Get Your 5lb Package of Pastured Duck Livers Now!**\\n\\n[Insert CTA button: Shop Now]\\n\\nAs a valued customer, we're giving you exclusive access to this limited supply. Don't wait – stock up on these nutrient-dense delicacies and start cooking your way to a healthier, happier you!\\n\\nHappy cooking, and thank you for choosing US Wellness Meats!\\n\\nBest, [Your Name]\\n\\nP.S. Don't forget to share your duck liver creations with us on social media! We love seeing how you get creative with our products!\", createdAt=datetime.datetime(2024, 5, 23, 19, 44, 58, 832000, tzinfo=datetime.timezone.utc), emailGeneratorId=None, emailGenerator=None)"
      ]
     },
     "execution_count": 12,
     "metadata": {},
     "output_type": "execute_result"
    }
   ],
   "source": [
    "sample_email"
   ]
  },
  {
   "cell_type": "code",
   "execution_count": 11,
   "id": "eba1dd01-032b-4fe2-a8a8-3275e9e910f1",
   "metadata": {},
   "outputs": [],
   "source": [
    "await get_sample_email(db, \"foo\")"
   ]
  },
  {
   "cell_type": "code",
   "execution_count": 12,
   "id": "891ad49f-3350-4a00-bb6f-bd4e3ed9fc3f",
   "metadata": {},
   "outputs": [
    {
     "data": {
      "text/plain": [
       "'quickstart-3d7b636b.myshopify.com'"
      ]
     },
     "execution_count": 12,
     "metadata": {},
     "output_type": "execute_result"
    }
   ],
   "source": [
    "shop = generator.shop; shop"
   ]
  },
  {
   "cell_type": "code",
   "execution_count": 17,
   "id": "772fbbb0-ac14-49fd-88d8-3666a02224f0",
   "metadata": {},
   "outputs": [
    {
     "data": {
      "text/plain": [
       "1494"
      ]
     },
     "execution_count": 17,
     "metadata": {},
     "output_type": "execute_result"
    }
   ],
   "source": [
    "await db.email.update_many(where={\"shop\": \"xx\"}, data={\"shop\": shop})"
   ]
  },
  {
   "cell_type": "code",
   "execution_count": 9,
   "id": "9dfdc0d0-efe5-4d45-8dec-074f131a11c0",
   "metadata": {},
   "outputs": [
    {
     "data": {
      "text/plain": [
       "EmailGenerator(id=35, shop='quickstart-3d7b636b.myshopify.com', productId='gid://shopify/Product/7925661958321', productTitle='Mini Sugar Free Ham - 2.5 lbs average', productHandle='sugar-free-ham', productVariantId='gid://shopify/ProductVariant/44016829202609', productDescription='Mini Sugar Free Ham - 2.5 lbs average US Wellness Meats’ delicious boneless Sugar Free Petite Ham does not contain sugar or sweetener, but has tremendous flavor. Sugar Free Petite Hams are Hickory Smoked with real Hickory wood chips, uncured and nitrate-free. Be sure to thoroughly cook before serving. Ingredients: Pork, Water, Sea Salt, & modified Carrot Fiber (used for binder) Each Sugar Free Petite Ham weighs approximately 2.5 pounds. All of our pasture-raised heritage pork is from like-minded, sustainable family farms. All US Wellness Meats pigs are GAP certified, Prop 12, unconfined with access to the outdoors, with access to fresh air and sunshine. Raised with USDA organic practices, free of artificial pesticides, fertilizers, antibiotics, synthetic hormones, GMOs, or other synthetic contaminants.', salt='VERY IMPORTANT: state no erythritol or sugar alcohols', likeness=1, createdAt=datetime.datetime(2024, 5, 23, 14, 22, 25, 570000, tzinfo=datetime.timezone.utc), Email=None)"
      ]
     },
     "execution_count": 9,
     "metadata": {},
     "output_type": "execute_result"
    }
   ],
   "source": [
    "email_generator"
   ]
  },
  {
   "cell_type": "code",
   "execution_count": 6,
   "id": "95f5a072-3840-4d09-a556-0012fe3b5960",
   "metadata": {},
   "outputs": [],
   "source": [
    "tone = get_email_tone(sample_email)"
   ]
  },
  {
   "cell_type": "code",
   "execution_count": 7,
   "id": "f6afad45-fbac-42a6-af36-22c0648731d3",
   "metadata": {},
   "outputs": [
    {
     "data": {
      "text/plain": [
       "AIMessage(content=\"1. Tone: Friendly, enthusiastic, promotional, and slightly persuasive.\\n2. Mood: Upbeat, energetic, and inviting.\\n3. Pace: Moderate to fast, with short paragraphs and a sense of urgency.\\n4. Style: Conversational, promotional, and slightly persuasive, with a touch of playfulness.\\n5. Voice: Friendly, knowledgeable, and slightly persuasive, with a focus on customer satisfaction.\\n6. Diction: Informal, conversational, and promotional, with a focus on highlighting the product's benefits.\\n7. Syntax: Varied sentence structure, with a mix of short and longer sentences to create a sense of rhythm.\\n8. Imagery: Vivid, sensory language used to describe the product and its potential uses.\\n9. Theme: The importance of healthy eating and the value of high-quality, sustainable food products.\\n10. Perspective: Second-person perspective, with the writer addressing the reader directly and encouraging them to take action.\", response_metadata={'token_usage': {'completion_time': 0.563143189, 'completion_tokens': 192, 'prompt_time': 0.138356218, 'prompt_tokens': 605, 'queue_time': None, 'total_time': 0.701499407, 'total_tokens': 797}, 'model_name': 'llama3-70b-8192', 'system_fingerprint': 'fp_753a4aecf6', 'finish_reason': 'stop', 'logprobs': None}, id='run-6b958f36-7b23-4b4f-a4fe-4a208ec8d245-0')"
      ]
     },
     "execution_count": 7,
     "metadata": {},
     "output_type": "execute_result"
    }
   ],
   "source": [
    "tone"
   ]
  },
  {
   "cell_type": "code",
   "execution_count": 10,
   "id": "e068d6ae-b295-4b7e-a9d3-8665a0d5aa9f",
   "metadata": {},
   "outputs": [
    {
     "name": "stdout",
     "output_type": "stream",
     "text": [
      "chat=ChatGroq(client=<groq.resources.chat.completions.Completions object at 0x13fa08b90>, async_client=<groq.resources.chat.completions.AsyncCompletions object at 0x13f1d5fa0>, model_name='llama3-70b-8192', groq_api_key=SecretStr('**********'))\n"
     ]
    }
   ],
   "source": [
    "(chain, input_) = await generate_email(db, email_generator)"
   ]
  },
  {
   "cell_type": "code",
   "execution_count": 12,
   "id": "e3ef2147-ed0a-4ed7-affe-d7d2296fa013",
   "metadata": {},
   "outputs": [],
   "source": [
    "response = chain.invoke(input_)"
   ]
  },
  {
   "cell_type": "code",
   "execution_count": 13,
   "id": "ba660d63-0d18-4945-806c-b9738560a2f4",
   "metadata": {},
   "outputs": [
    {
     "data": {
      "text/plain": [
       "AIMessage(content=\"[Subject Line #1] 🎉 Your Exclusive Invitation to a Sugar-Free Paradise (only 100 spots left!)\\n[Subject Line #2] What's Holding You Back from a Deliciously Guilt-Free Life? (check your fridge for the answer)\\n[Subject Line #3] The Secret to a Sugar-Free Ham That Will Make Your Taste Buds Dance\\n\\nDear [Name],\\n\\nImagine you're at a family gathering, surrounded by the people you love, and the delicious aroma of a perfectly cooked ham fills the air. Your mouth starts watering, and your taste buds start doing the happy dance. But, you're stuck with the guilt of indulging in a sugary treat that's not aligned with your healthy lifestyle.\\n\\nMeet Sarah, a health-conscious individual who's been struggling to find a sugar-free alternative to her favorite ham. She's tried everything, from bland turkey slices to flavorless veggie burgers, but nothing comes close to the real deal. That is, until she stumbled upon a game-changing solution that would revolutionize her meal prep routine.\\n\\nSarah's story is not unique. Many of us have been there, stuck in a cycle of guilt and frustration, trying to balance our love for good food with our commitment to a healthy lifestyle. But what if I told you there's a way to indulge in a mouth-watering, sugar-free ham that's not only delicious but also packed with nutrients?\\n\\nFor a limited time, we're offering an exclusive opportunity to experience the thrill of a sugar-free ham that will make your taste buds sing! Our Sugar Free Petite Ham is made from pasture-raised heritage pork, hickory smoked to perfection, and contains no erythritol or sugar alcohols. This is not just a ham; it's a game-changer for your health and taste buds.\\n\\n**[Link: Learn More About Our Sugar Free Petite Ham]**\\n\\nBut don't just take our word for it! Our Sugar Free Petite Ham has been praised by health enthusiasts and foodies alike for its unparalleled flavor and nutritional benefits.\\n\\n**[Image: A mouth-watering image of the Sugar Free Petite Ham, sliced and garnished with fresh herbs]**\\n\\nAs one of our valued subscribers, we're offering you an exclusive opportunity to try our Sugar Free Petite Ham at a special discounted price. But hurry, this offer is only valid for a limited time, and we only have 100 spots available! ⏰\\n\\n**[Link: Get Your Exclusive Discount on Our Sugar Free Petite Ham]**\\n\\nDon't miss out on this chance to indulge in a guilt-free culinary experience that will leave you feeling satisfied and proud of your healthy choices.\\n\\nBest,\\n[Your Name]\\n\\nP.S. Remember, this offer is only valid for a limited time, and we can't guarantee availability once the 100 spots are filled. Don't miss out on this opportunity to elevate your meal prep game and treat your taste buds to a sugar-free paradise! **[Link: Get Your Exclusive Discount on Our Sugar Free Petite Ham]**\", id='run-2986c49b-96da-4d32-976f-0bf4cac1a813-0')"
      ]
     },
     "execution_count": 13,
     "metadata": {},
     "output_type": "execute_result"
    }
   ],
   "source": [
    "response"
   ]
  },
  {
   "cell_type": "code",
   "execution_count": null,
   "id": "89ac5def-5d1e-4182-8145-078b57686698",
   "metadata": {},
   "outputs": [],
   "source": []
  }
 ],
 "metadata": {
  "kernelspec": {
   "display_name": "Python 3 (ipykernel)",
   "language": "python",
   "name": "python3"
  },
  "language_info": {
   "codemirror_mode": {
    "name": "ipython",
    "version": 3
   },
   "file_extension": ".py",
   "mimetype": "text/x-python",
   "name": "python",
   "nbconvert_exporter": "python",
   "pygments_lexer": "ipython3",
   "version": "3.12.3"
  }
 },
 "nbformat": 4,
 "nbformat_minor": 5
}
