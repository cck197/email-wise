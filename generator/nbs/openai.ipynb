{
 "cells": [
  {
   "cell_type": "code",
   "execution_count": 3,
   "id": "c9a560fc-5b8c-41b7-904c-99d20b0da394",
   "metadata": {},
   "outputs": [],
   "source": [
    "%load_ext dotenv\n",
    "%dotenv ../.env"
   ]
  },
  {
   "cell_type": "code",
   "execution_count": 12,
   "id": "ad8cd656-9a92-4cbd-ae6c-665a3fe742a6",
   "metadata": {},
   "outputs": [],
   "source": [
    "import os\n",
    "from openai import OpenAI, AuthenticationError"
   ]
  },
  {
   "cell_type": "code",
   "execution_count": 10,
   "id": "d92964e8-8cba-49b7-9748-7eaa8ccee6de",
   "metadata": {},
   "outputs": [],
   "source": [
    "client = OpenAI(api_key=\"zz\")#os.environ[\"OPENAI_API_KEY\"])"
   ]
  },
  {
   "cell_type": "code",
   "execution_count": 13,
   "id": "c0338ddb-38f3-432e-b36a-93e82683e3ea",
   "metadata": {},
   "outputs": [],
   "source": [
    "exc = None\n",
    "try:\n",
    "    client.models.list()\n",
    "except AuthenticationError as e:\n",
    "    exc = e"
   ]
  },
  {
   "cell_type": "code",
   "execution_count": 19,
   "id": "bf706edd-2f73-4173-9668-e4b86e61b39c",
   "metadata": {},
   "outputs": [
    {
     "data": {
      "text/plain": [
       "'Incorrect API key provided: zz. You can find your API key at https://platform.openai.com/account/api-keys.'"
      ]
     },
     "execution_count": 19,
     "metadata": {},
     "output_type": "execute_result"
    }
   ],
   "source": [
    "exc.body[\"message\"]"
   ]
  },
  {
   "cell_type": "code",
   "execution_count": null,
   "id": "93d71924-930e-490d-9661-27323b47a9b9",
   "metadata": {},
   "outputs": [],
   "source": []
  }
 ],
 "metadata": {
  "kernelspec": {
   "display_name": "Python 3 (ipykernel)",
   "language": "python",
   "name": "python3"
  },
  "language_info": {
   "codemirror_mode": {
    "name": "ipython",
    "version": 3
   },
   "file_extension": ".py",
   "mimetype": "text/x-python",
   "name": "python",
   "nbconvert_exporter": "python",
   "pygments_lexer": "ipython3",
   "version": "3.12.3"
  }
 },
 "nbformat": 4,
 "nbformat_minor": 5
}
