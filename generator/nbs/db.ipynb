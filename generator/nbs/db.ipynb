{
 "cells": [
  {
   "cell_type": "code",
   "execution_count": 1,
   "id": "fd53f4d9-cadd-4440-b519-f89e247ab10f",
   "metadata": {},
   "outputs": [],
   "source": [
    "%load_ext dotenv\n",
    "%dotenv ../.env"
   ]
  },
  {
   "cell_type": "code",
   "execution_count": 2,
   "id": "d54ade9e-bd7c-41f4-b24b-8f5fc2da82dc",
   "metadata": {},
   "outputs": [],
   "source": [
    "from generator.email_generator import *\n",
    "from generator.db import *"
   ]
  },
  {
   "cell_type": "code",
   "execution_count": 3,
   "id": "fbe4b38f-efd3-42e7-b4ef-dd92f7baf85e",
   "metadata": {},
   "outputs": [],
   "source": [
    "db = await connect()"
   ]
  },
  {
   "cell_type": "code",
   "execution_count": 4,
   "id": "17c62c42-1034-4fde-8edd-62f6133456ad",
   "metadata": {},
   "outputs": [],
   "source": [
    "generator = await db.emailgenerator.find_first()"
   ]
  },
  {
   "cell_type": "code",
   "execution_count": 5,
   "id": "7f48f50e-e2ab-4dd3-8ad6-3b0becc2c58f",
   "metadata": {},
   "outputs": [
    {
     "data": {
      "text/plain": [
       "'These Spicy Beef Jerky End Pieces are bite sized nuggets of delicious. Made from the same great ingredients as our beef jerky sticks...just beef and spices to give zing pow! Ground and reformed into a chewable treat. Add some spice to your life with US Wellness Meats’ Spicy Beef Jerky Sticks! US Wellness Meats’ grass-fed Beef Jerky is uncured and contains NO nitrites, NO MSG, and NO preservatives. These delicious snacks are not shelf stable so will need to be refrigerated upon opening the package. They thaw quickly, so keep frozen until intended use. Spicy Beef Jerky Sticks are a perfect on-the-go snack or lunchbox addition. Ingredients: beef, sea salt, black pepper, red pepper, garlic, coriander. Pkg Weight approximately (8 oz) All of US Wellness Meats’ beef products are 100% grass-fed and grass-finished.'"
      ]
     },
     "execution_count": 5,
     "metadata": {},
     "output_type": "execute_result"
    }
   ],
   "source": [
    "generator.productDescription"
   ]
  },
  {
   "cell_type": "code",
   "execution_count": 6,
   "id": "80d085e3-e74b-4790-91de-731b8192b325",
   "metadata": {},
   "outputs": [
    {
     "data": {
      "text/plain": [
       "'quickstart-3d7b636b.myshopify.com'"
      ]
     },
     "execution_count": 6,
     "metadata": {},
     "output_type": "execute_result"
    }
   ],
   "source": [
    "generator.shop"
   ]
  },
  {
   "cell_type": "code",
   "execution_count": 1,
   "id": "d93b1f16-75d6-4427-9b78-7c0476d7faa9",
   "metadata": {},
   "outputs": [],
   "source": [
    "async def get_settings(shop):\n",
    "    db = get_client()\n",
    "    return await db.settings.find_first(\n",
    "        where={\"shop\": shop}, include={\"emailProvider\": True, \"lLMProvider\": True}\n",
    "    )"
   ]
  },
  {
   "cell_type": "code",
   "execution_count": 15,
   "id": "2b7789db-4f03-4699-a9e4-073dc893459c",
   "metadata": {},
   "outputs": [],
   "source": [
    "settings = await get_settings(generator.shop)"
   ]
  },
  {
   "cell_type": "code",
   "execution_count": 21,
   "id": "adb97247-af83-4613-9c0b-49c7c6a910cd",
   "metadata": {},
   "outputs": [
    {
     "data": {
      "text/plain": [
       "'OpenAI'"
      ]
     },
     "execution_count": 21,
     "metadata": {},
     "output_type": "execute_result"
    }
   ],
   "source": [
    "settings.lLMProvider.name"
   ]
  },
  {
   "cell_type": "code",
   "execution_count": 7,
   "id": "6da4f462-0829-4408-a927-40c9c127c66a",
   "metadata": {},
   "outputs": [],
   "source": [
    "shop = \"quickstart-3d7b636b.myshopify.com\""
   ]
  },
  {
   "cell_type": "code",
   "execution_count": 8,
   "id": "a3a24e5c-48fc-41af-b484-46ad12376144",
   "metadata": {},
   "outputs": [],
   "source": [
    "result = await db.email.update_many(\n",
    "        data={\n",
    "            'shop': shop,\n",
    "        },\n",
    "        where={\"shop\": \"foo\"}\n",
    "    )"
   ]
  },
  {
   "cell_type": "code",
   "execution_count": 13,
   "id": "0a9c6061-2696-4edb-8ee6-cbe5ac21a3a1",
   "metadata": {},
   "outputs": [],
   "source": [
    "result = await db.emailgenerator.update_many(\n",
    "        data={\n",
    "            'shop': shop,\n",
    "        },\n",
    "        where={\"shop\": \"foo\"}\n",
    "    )"
   ]
  },
  {
   "cell_type": "code",
   "execution_count": null,
   "id": "9ecd3c26-cb9f-437f-b582-8f6eb809fe09",
   "metadata": {},
   "outputs": [],
   "source": []
  }
 ],
 "metadata": {
  "kernelspec": {
   "display_name": "Python 3 (ipykernel)",
   "language": "python",
   "name": "python3"
  },
  "language_info": {
   "codemirror_mode": {
    "name": "ipython",
    "version": 3
   },
   "file_extension": ".py",
   "mimetype": "text/x-python",
   "name": "python",
   "nbconvert_exporter": "python",
   "pygments_lexer": "ipython3",
   "version": "3.12.3"
  }
 },
 "nbformat": 4,
 "nbformat_minor": 5
}
