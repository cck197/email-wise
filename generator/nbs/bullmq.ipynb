{
 "cells": [
  {
   "cell_type": "code",
   "execution_count": 14,
   "id": "f9d6fdeb-9016-4677-92eb-6d5e31e4f269",
   "metadata": {},
   "outputs": [
    {
     "name": "stdout",
     "output_type": "stream",
     "text": [
      "The dotenv extension is already loaded. To reload it, use:\n",
      "  %reload_ext dotenv\n"
     ]
    }
   ],
   "source": [
    "%load_ext dotenv\n",
    "%dotenv ../.env"
   ]
  },
  {
   "cell_type": "code",
   "execution_count": 15,
   "id": "5bfb7076-98dd-4b90-9245-054a658fdeb3",
   "metadata": {},
   "outputs": [],
   "source": [
    "import os"
   ]
  },
  {
   "cell_type": "code",
   "execution_count": 16,
   "id": "45189c69-a73a-438e-a4b3-b397343af015",
   "metadata": {},
   "outputs": [],
   "source": [
    "broker_url = os.environ[\"BROKER_URL\"]\n",
    "queue_name = os.environ[\"QUEUE_NAME\"]"
   ]
  },
  {
   "cell_type": "code",
   "execution_count": 17,
   "id": "aa93c3ba-f0b0-4676-b501-f24212f4be75",
   "metadata": {},
   "outputs": [],
   "source": [
    "from bullmq import Queue"
   ]
  },
  {
   "cell_type": "code",
   "execution_count": 24,
   "id": "ce16b61a-23a5-422b-9d35-55b8473b21f9",
   "metadata": {},
   "outputs": [],
   "source": [
    "queue = Queue(queue_name, {\"connection\": broker_url})"
   ]
  },
  {
   "cell_type": "code",
   "execution_count": 25,
   "id": "5981825e-ba49-4c40-87e9-8bac23c8118e",
   "metadata": {},
   "outputs": [
    {
     "data": {
      "text/plain": [
       "<bullmq.job.Job at 0x1106b7320>"
      ]
     },
     "execution_count": 25,
     "metadata": {},
     "output_type": "execute_result"
    }
   ],
   "source": [
    "await queue.add(\"myJob\", { \"foo\": \"bar\" })"
   ]
  },
  {
   "cell_type": "code",
   "execution_count": 26,
   "id": "dc479dc8-17eb-4f7f-8348-e9e2d7a9484c",
   "metadata": {},
   "outputs": [],
   "source": [
    "await queue.close()"
   ]
  },
  {
   "cell_type": "code",
   "execution_count": null,
   "id": "4340e29f-094a-4992-917c-eed79fe35368",
   "metadata": {},
   "outputs": [],
   "source": []
  }
 ],
 "metadata": {
  "kernelspec": {
   "display_name": "Python 3 (ipykernel)",
   "language": "python",
   "name": "python3"
  },
  "language_info": {
   "codemirror_mode": {
    "name": "ipython",
    "version": 3
   },
   "file_extension": ".py",
   "mimetype": "text/x-python",
   "name": "python",
   "nbconvert_exporter": "python",
   "pygments_lexer": "ipython3",
   "version": "3.12.3"
  }
 },
 "nbformat": 4,
 "nbformat_minor": 5
}
